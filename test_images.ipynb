{
 "cells": [
  {
   "metadata": {},
   "cell_type": "markdown",
   "source": "## write image to file\n",
   "id": "3b5cc3d7591197da"
  },
  {
   "metadata": {
    "ExecuteTime": {
     "end_time": "2024-05-11T11:21:31.964420Z",
     "start_time": "2024-05-11T11:21:25.944029Z"
    }
   },
   "cell_type": "code",
   "source": [
    "import matplotlib.pyplot as plt\n",
    "from skimage import feature as ft\n",
    "import numpy as np\n",
    "from scipy import ndimage\n",
    "import cv2 as cv\n",
    "\n",
    "# Assuming 'img_array' is your numpy array\n",
    "img_array = np.random.rand(100,100,3)  # This is just a placeholder for your array\n",
    "\n",
    "# Save the image\n",
    "plt.imsave('output.jpg', img_array)\n",
    "\n",
    "\"\"\"write to file\"\"\""
   ],
   "id": "21a3657a04b12dff",
   "outputs": [
    {
     "data": {
      "text/plain": [
       "'write to file'"
      ]
     },
     "execution_count": 1,
     "metadata": {},
     "output_type": "execute_result"
    }
   ],
   "execution_count": 1
  },
  {
   "metadata": {},
   "cell_type": "markdown",
   "source": "### read from image to array",
   "id": "9698a00aacf9cf74"
  },
  {
   "metadata": {
    "ExecuteTime": {
     "end_time": "2024-05-11T11:21:32.006203Z",
     "start_time": "2024-05-11T11:21:31.964420Z"
    }
   },
   "cell_type": "code",
   "source": [
    "img = plt.imread('image.jpg')\n",
    "\n",
    "# Convert the image data to a numpy array\n",
    "img_array = np.array(img)\n"
   ],
   "id": "bcfc0e99869ef69f",
   "outputs": [],
   "execution_count": 2
  },
  {
   "metadata": {},
   "cell_type": "markdown",
   "source": "### Open Leander's Image",
   "id": "ceae109573f3645c"
  },
  {
   "metadata": {
    "ExecuteTime": {
     "end_time": "2024-05-11T11:21:32.452891Z",
     "start_time": "2024-05-11T11:21:32.013863Z"
    }
   },
   "cell_type": "code",
   "source": [
    "img = plt.imread('rcpt.jpeg')\n",
    "\n",
    "# Convert the image data to a numpy array\n",
    "rcpt_array = np.array(img)\n",
    "print(rcpt_array.shape)"
   ],
   "id": "23ab403fdb24786e",
   "outputs": [
    {
     "name": "stdout",
     "output_type": "stream",
     "text": [
      "(1600, 1200, 3)\n"
     ]
    }
   ],
   "execution_count": 3
  },
  {
   "metadata": {},
   "cell_type": "markdown",
   "source": "### convert to greyscale",
   "id": "a8fe99aa0364b5b4"
  },
  {
   "metadata": {
    "ExecuteTime": {
     "end_time": "2024-05-11T11:24:34.093421Z",
     "start_time": "2024-05-11T11:24:25.489202Z"
    }
   },
   "cell_type": "code",
   "source": [
    "rcpt_red, rcpt_green, rcpt_blue = rcpt_array[:,:,0], rcpt_array[:,:,1], rcpt_array[:,:,2]\n",
    "print('red = ', np.var(rcpt_red))\n",
    "print('green = ', np.var(rcpt_green))\n",
    "print('blue = ', np.var(rcpt_blue))\n",
    "rcpt_grey = 0.2 * rcpt_green + 0.4 * rcpt_blue + 0.4 * rcpt_red\n",
    "print('grey = ', np.var(rcpt_grey))\n",
    "\n",
    "plt.imsave('red.jpg', np.array(rcpt_red), cmap='gray')\n",
    "plt.imsave('green.jpg', np.array(rcpt_green), cmap='gray')\n",
    "plt.imsave('blue.jpg', np.array(rcpt_blue), cmap='gray')\n",
    "\n",
    "rcpt_filtered = ndimage.gaussian_filter(rcpt_red, sigma=10)\n",
    "\n",
    "plt.imsave('filtered.jpg', np.array(rcpt_filtered))\n",
    "\n",
    "\n",
    "\n"
   ],
   "id": "5fa044fa146d25cd",
   "outputs": [
    {
     "name": "stdout",
     "output_type": "stream",
     "text": [
      "red =  2841.1552167450996\n",
      "green =  2876.5509883069976\n",
      "blue =  3252.189866113402\n",
      "grey =  2867.425923742765\n"
     ]
    }
   ],
   "execution_count": 7
  },
  {
   "metadata": {},
   "cell_type": "markdown",
   "source": "",
   "id": "518d8f4d455b355a"
  },
  {
   "metadata": {},
   "cell_type": "markdown",
   "source": "### Thresholded black and white image",
   "id": "837c89e5e798e766"
  },
  {
   "metadata": {
    "ExecuteTime": {
     "end_time": "2024-05-10T16:00:04.678142Z",
     "start_time": "2024-05-10T16:00:04.475402Z"
    }
   },
   "cell_type": "code",
   "source": [
    "rcpt_BW = np.where(rcpt_blue < 200, 0, 255)\n",
    "print('BW = ', np.var(rcpt_BW))\n",
    "plt.imsave('BW.jpg', np.array(rcpt_BW), cmap='gray')"
   ],
   "id": "8c657392a5fd335d",
   "outputs": [
    {
     "name": "stdout",
     "output_type": "stream",
     "text": [
      "BW =  14379.928120467768\n"
     ]
    }
   ],
   "execution_count": 24
  },
  {
   "metadata": {},
   "cell_type": "markdown",
   "source": "### opencv",
   "id": "2b59581741645321"
  },
  {
   "metadata": {},
   "cell_type": "code",
   "outputs": [],
   "execution_count": null,
   "source": "cv_img = cv.imread('1000.jpg')\n",
   "id": "4f9e55547ddcf86e"
  }
 ],
 "metadata": {
  "kernelspec": {
   "display_name": "Python 3",
   "language": "python",
   "name": "python3"
  },
  "language_info": {
   "codemirror_mode": {
    "name": "ipython",
    "version": 2
   },
   "file_extension": ".py",
   "mimetype": "text/x-python",
   "name": "python",
   "nbconvert_exporter": "python",
   "pygments_lexer": "ipython2",
   "version": "2.7.6"
  }
 },
 "nbformat": 4,
 "nbformat_minor": 5
}
